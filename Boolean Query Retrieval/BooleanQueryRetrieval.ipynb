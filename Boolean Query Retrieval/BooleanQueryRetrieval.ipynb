{
 "cells": [
  {
   "cell_type": "code",
   "execution_count": 5,
   "id": "9fd4e87e",
   "metadata": {},
   "outputs": [],
   "source": [
    "#importing the required libraries\n",
    "import numpy as np\n",
    "import pandas as pd\n",
    "import nltk\n",
    "from nltk.tokenize import sent_tokenize,word_tokenize\n",
    "from nltk.corpus import stopwords\n",
    "from nltk.tokenize import TweetTokenizer\n",
    "from nltk.stem import PorterStemmer"
   ]
  },
  {
   "cell_type": "code",
   "execution_count": 6,
   "id": "2ae9a1b4",
   "metadata": {},
   "outputs": [
    {
     "name": "stderr",
     "output_type": "stream",
     "text": [
      "[nltk_data] Downloading package punkt to C:\\Users\\Arjun\n",
      "[nltk_data]     V\\AppData\\Roaming\\nltk_data...\n",
      "[nltk_data]   Package punkt is already up-to-date!\n"
     ]
    },
    {
     "data": {
      "text/plain": [
       "True"
      ]
     },
     "execution_count": 6,
     "metadata": {},
     "output_type": "execute_result"
    }
   ],
   "source": [
    "nltk.download(\"punkt\")"
   ]
  },
  {
   "cell_type": "code",
   "execution_count": 9,
   "id": "bffcca01",
   "metadata": {},
   "outputs": [],
   "source": [
    "#reading from the dataset\n",
    "df = pd.read_csv(\"twit.csv\",encoding=\"ISO-8859-1\")"
   ]
  },
  {
   "cell_type": "code",
   "execution_count": 10,
   "id": "079629db",
   "metadata": {},
   "outputs": [
    {
     "data": {
      "text/html": [
       "<div>\n",
       "<style scoped>\n",
       "    .dataframe tbody tr th:only-of-type {\n",
       "        vertical-align: middle;\n",
       "    }\n",
       "\n",
       "    .dataframe tbody tr th {\n",
       "        vertical-align: top;\n",
       "    }\n",
       "\n",
       "    .dataframe thead th {\n",
       "        text-align: right;\n",
       "    }\n",
       "</style>\n",
       "<table border=\"1\" class=\"dataframe\">\n",
       "  <thead>\n",
       "    <tr style=\"text-align: right;\">\n",
       "      <th></th>\n",
       "      <th>id</th>\n",
       "      <th>thread_number</th>\n",
       "      <th>timestamp</th>\n",
       "      <th>text</th>\n",
       "      <th>retweets</th>\n",
       "      <th>likes</th>\n",
       "      <th>replies</th>\n",
       "    </tr>\n",
       "  </thead>\n",
       "  <tbody>\n",
       "    <tr>\n",
       "      <th>0</th>\n",
       "      <td>978874480968728576</td>\n",
       "      <td>Thread 1</td>\n",
       "      <td>1522216837</td>\n",
       "      <td>(1) @DeadofKnight68 asks a question. https://t...</td>\n",
       "      <td>402</td>\n",
       "      <td>620</td>\n",
       "      <td>33</td>\n",
       "    </tr>\n",
       "    <tr>\n",
       "      <th>1</th>\n",
       "      <td>978875352654188546</td>\n",
       "      <td>Thread 1</td>\n",
       "      <td>1522217045</td>\n",
       "      <td>(2) In North Korea, the Kim family and the Kor...</td>\n",
       "      <td>90</td>\n",
       "      <td>239</td>\n",
       "      <td>3</td>\n",
       "    </tr>\n",
       "    <tr>\n",
       "      <th>2</th>\n",
       "      <td>978875693722456064</td>\n",
       "      <td>Thread 1</td>\n",
       "      <td>1522217126</td>\n",
       "      <td>(3) The KPA needs a central figure who serves ...</td>\n",
       "      <td>59</td>\n",
       "      <td>216</td>\n",
       "      <td>2</td>\n",
       "    </tr>\n",
       "    <tr>\n",
       "      <th>3</th>\n",
       "      <td>978876717287772161</td>\n",
       "      <td>Thread 1</td>\n",
       "      <td>1522217370</td>\n",
       "      <td>(4) KPA generals live in palaces.\\r\\r\\n\\r\\r\\nS...</td>\n",
       "      <td>70</td>\n",
       "      <td>224</td>\n",
       "      <td>3</td>\n",
       "    </tr>\n",
       "    <tr>\n",
       "      <th>4</th>\n",
       "      <td>978876925161672705</td>\n",
       "      <td>Thread 1</td>\n",
       "      <td>1522217420</td>\n",
       "      <td>(5) The Kim family and the KPA are twin mafias...</td>\n",
       "      <td>85</td>\n",
       "      <td>238</td>\n",
       "      <td>2</td>\n",
       "    </tr>\n",
       "  </tbody>\n",
       "</table>\n",
       "</div>"
      ],
      "text/plain": [
       "                   id thread_number   timestamp  \\\n",
       "0  978874480968728576      Thread 1  1522216837   \n",
       "1  978875352654188546      Thread 1  1522217045   \n",
       "2  978875693722456064      Thread 1  1522217126   \n",
       "3  978876717287772161      Thread 1  1522217370   \n",
       "4  978876925161672705      Thread 1  1522217420   \n",
       "\n",
       "                                                text  retweets  likes  replies  \n",
       "0  (1) @DeadofKnight68 asks a question. https://t...       402    620       33  \n",
       "1  (2) In North Korea, the Kim family and the Kor...        90    239        3  \n",
       "2  (3) The KPA needs a central figure who serves ...        59    216        2  \n",
       "3  (4) KPA generals live in palaces.\\r\\r\\n\\r\\r\\nS...        70    224        3  \n",
       "4  (5) The Kim family and the KPA are twin mafias...        85    238        2  "
      ]
     },
     "execution_count": 10,
     "metadata": {},
     "output_type": "execute_result"
    }
   ],
   "source": [
    "df.head()"
   ]
  },
  {
   "cell_type": "code",
   "execution_count": 12,
   "id": "65c36a9c",
   "metadata": {},
   "outputs": [
    {
     "name": "stderr",
     "output_type": "stream",
     "text": [
      "C:\\Users\\ARJUNV~1\\AppData\\Local\\Temp/ipykernel_20464/1161919298.py:4: FutureWarning: The default value of regex will change from True to False in a future version.\n",
      "  df[\"tokenized\"] = df['tokenized'].str.replace('[^\\w\\s]','')\n"
     ]
    }
   ],
   "source": [
    "#removing punctutations, applying case holding\n",
    "df[\"tokenized\"] = df[\"text\"]\n",
    "df = df.apply(lambda x: x.str.lower() if x.dtype == \"object\" else x) \n",
    "df[\"tokenized\"] = df['tokenized'].str.replace('[^\\w\\s]','')"
   ]
  },
  {
   "cell_type": "code",
   "execution_count": 13,
   "id": "f87637f2",
   "metadata": {},
   "outputs": [
    {
     "data": {
      "text/html": [
       "<div>\n",
       "<style scoped>\n",
       "    .dataframe tbody tr th:only-of-type {\n",
       "        vertical-align: middle;\n",
       "    }\n",
       "\n",
       "    .dataframe tbody tr th {\n",
       "        vertical-align: top;\n",
       "    }\n",
       "\n",
       "    .dataframe thead th {\n",
       "        text-align: right;\n",
       "    }\n",
       "</style>\n",
       "<table border=\"1\" class=\"dataframe\">\n",
       "  <thead>\n",
       "    <tr style=\"text-align: right;\">\n",
       "      <th></th>\n",
       "      <th>id</th>\n",
       "      <th>thread_number</th>\n",
       "      <th>timestamp</th>\n",
       "      <th>text</th>\n",
       "      <th>retweets</th>\n",
       "      <th>likes</th>\n",
       "      <th>replies</th>\n",
       "      <th>tokenized</th>\n",
       "    </tr>\n",
       "  </thead>\n",
       "  <tbody>\n",
       "    <tr>\n",
       "      <th>0</th>\n",
       "      <td>978874480968728576</td>\n",
       "      <td>thread 1</td>\n",
       "      <td>1522216837</td>\n",
       "      <td>(1) @deadofknight68 asks a question. https://t...</td>\n",
       "      <td>402</td>\n",
       "      <td>620</td>\n",
       "      <td>33</td>\n",
       "      <td>1 deadofknight68 asks a question httpstcoibknf...</td>\n",
       "    </tr>\n",
       "    <tr>\n",
       "      <th>1</th>\n",
       "      <td>978875352654188546</td>\n",
       "      <td>thread 1</td>\n",
       "      <td>1522217045</td>\n",
       "      <td>(2) in north korea, the kim family and the kor...</td>\n",
       "      <td>90</td>\n",
       "      <td>239</td>\n",
       "      <td>3</td>\n",
       "      <td>2 in north korea the kim family and the korean...</td>\n",
       "    </tr>\n",
       "    <tr>\n",
       "      <th>2</th>\n",
       "      <td>978875693722456064</td>\n",
       "      <td>thread 1</td>\n",
       "      <td>1522217126</td>\n",
       "      <td>(3) the kpa needs a central figure who serves ...</td>\n",
       "      <td>59</td>\n",
       "      <td>216</td>\n",
       "      <td>2</td>\n",
       "      <td>3 the kpa needs a central figure who serves as...</td>\n",
       "    </tr>\n",
       "    <tr>\n",
       "      <th>3</th>\n",
       "      <td>978876717287772161</td>\n",
       "      <td>thread 1</td>\n",
       "      <td>1522217370</td>\n",
       "      <td>(4) kpa generals live in palaces.\\r\\r\\n\\r\\r\\ns...</td>\n",
       "      <td>70</td>\n",
       "      <td>224</td>\n",
       "      <td>3</td>\n",
       "      <td>4 kpa generals live in palaces\\r\\r\\n\\r\\r\\nsome...</td>\n",
       "    </tr>\n",
       "    <tr>\n",
       "      <th>4</th>\n",
       "      <td>978876925161672705</td>\n",
       "      <td>thread 1</td>\n",
       "      <td>1522217420</td>\n",
       "      <td>(5) the kim family and the kpa are twin mafias...</td>\n",
       "      <td>85</td>\n",
       "      <td>238</td>\n",
       "      <td>2</td>\n",
       "      <td>5 the kim family and the kpa are twin mafias\\r...</td>\n",
       "    </tr>\n",
       "  </tbody>\n",
       "</table>\n",
       "</div>"
      ],
      "text/plain": [
       "                   id thread_number   timestamp  \\\n",
       "0  978874480968728576      thread 1  1522216837   \n",
       "1  978875352654188546      thread 1  1522217045   \n",
       "2  978875693722456064      thread 1  1522217126   \n",
       "3  978876717287772161      thread 1  1522217370   \n",
       "4  978876925161672705      thread 1  1522217420   \n",
       "\n",
       "                                                text  retweets  likes  \\\n",
       "0  (1) @deadofknight68 asks a question. https://t...       402    620   \n",
       "1  (2) in north korea, the kim family and the kor...        90    239   \n",
       "2  (3) the kpa needs a central figure who serves ...        59    216   \n",
       "3  (4) kpa generals live in palaces.\\r\\r\\n\\r\\r\\ns...        70    224   \n",
       "4  (5) the kim family and the kpa are twin mafias...        85    238   \n",
       "\n",
       "   replies                                          tokenized  \n",
       "0       33  1 deadofknight68 asks a question httpstcoibknf...  \n",
       "1        3  2 in north korea the kim family and the korean...  \n",
       "2        2  3 the kpa needs a central figure who serves as...  \n",
       "3        3  4 kpa generals live in palaces\\r\\r\\n\\r\\r\\nsome...  \n",
       "4        2  5 the kim family and the kpa are twin mafias\\r...  "
      ]
     },
     "execution_count": 13,
     "metadata": {},
     "output_type": "execute_result"
    }
   ],
   "source": [
    "df.head()"
   ]
  },
  {
   "cell_type": "code",
   "execution_count": 14,
   "id": "3a78509f",
   "metadata": {},
   "outputs": [
    {
     "data": {
      "text/plain": [
       "0    [1, deadofknight68, asks, a, question, httpstc...\n",
       "1    [2, in, north, korea, the, kim, family, and, t...\n",
       "2    [3, the, kpa, needs, a, central, figure, who, ...\n",
       "3    [4, kpa, generals, live, in, palaces, some, of...\n",
       "4    [5, the, kim, family, and, the, kpa, are, twin...\n",
       "Name: tokenized, dtype: object"
      ]
     },
     "execution_count": 14,
     "metadata": {},
     "output_type": "execute_result"
    }
   ],
   "source": [
    "#using word tokenizer for tokenizing data\n",
    "df[\"tokenized\"] = df[\"tokenized\"].apply(word_tokenize)\n",
    "df[\"tokenized\"].head()"
   ]
  },
  {
   "cell_type": "code",
   "execution_count": 15,
   "id": "dc129503",
   "metadata": {},
   "outputs": [
    {
     "data": {
      "text/html": [
       "<div>\n",
       "<style scoped>\n",
       "    .dataframe tbody tr th:only-of-type {\n",
       "        vertical-align: middle;\n",
       "    }\n",
       "\n",
       "    .dataframe tbody tr th {\n",
       "        vertical-align: top;\n",
       "    }\n",
       "\n",
       "    .dataframe thead th {\n",
       "        text-align: right;\n",
       "    }\n",
       "</style>\n",
       "<table border=\"1\" class=\"dataframe\">\n",
       "  <thead>\n",
       "    <tr style=\"text-align: right;\">\n",
       "      <th></th>\n",
       "      <th>id</th>\n",
       "      <th>thread_number</th>\n",
       "      <th>timestamp</th>\n",
       "      <th>text</th>\n",
       "      <th>retweets</th>\n",
       "      <th>likes</th>\n",
       "      <th>replies</th>\n",
       "      <th>tokenized</th>\n",
       "    </tr>\n",
       "  </thead>\n",
       "  <tbody>\n",
       "    <tr>\n",
       "      <th>0</th>\n",
       "      <td>978874480968728576</td>\n",
       "      <td>thread 1</td>\n",
       "      <td>1522216837</td>\n",
       "      <td>(1) @deadofknight68 asks a question. https://t...</td>\n",
       "      <td>402</td>\n",
       "      <td>620</td>\n",
       "      <td>33</td>\n",
       "      <td>[1, deadofknight68, asks, a, question, httpstc...</td>\n",
       "    </tr>\n",
       "    <tr>\n",
       "      <th>1</th>\n",
       "      <td>978875352654188546</td>\n",
       "      <td>thread 1</td>\n",
       "      <td>1522217045</td>\n",
       "      <td>(2) in north korea, the kim family and the kor...</td>\n",
       "      <td>90</td>\n",
       "      <td>239</td>\n",
       "      <td>3</td>\n",
       "      <td>[2, in, north, korea, the, kim, family, and, t...</td>\n",
       "    </tr>\n",
       "    <tr>\n",
       "      <th>2</th>\n",
       "      <td>978875693722456064</td>\n",
       "      <td>thread 1</td>\n",
       "      <td>1522217126</td>\n",
       "      <td>(3) the kpa needs a central figure who serves ...</td>\n",
       "      <td>59</td>\n",
       "      <td>216</td>\n",
       "      <td>2</td>\n",
       "      <td>[3, the, kpa, needs, a, central, figure, who, ...</td>\n",
       "    </tr>\n",
       "    <tr>\n",
       "      <th>3</th>\n",
       "      <td>978876717287772161</td>\n",
       "      <td>thread 1</td>\n",
       "      <td>1522217370</td>\n",
       "      <td>(4) kpa generals live in palaces.\\r\\r\\n\\r\\r\\ns...</td>\n",
       "      <td>70</td>\n",
       "      <td>224</td>\n",
       "      <td>3</td>\n",
       "      <td>[4, kpa, generals, live, in, palaces, some, of...</td>\n",
       "    </tr>\n",
       "    <tr>\n",
       "      <th>4</th>\n",
       "      <td>978876925161672705</td>\n",
       "      <td>thread 1</td>\n",
       "      <td>1522217420</td>\n",
       "      <td>(5) the kim family and the kpa are twin mafias...</td>\n",
       "      <td>85</td>\n",
       "      <td>238</td>\n",
       "      <td>2</td>\n",
       "      <td>[5, the, kim, family, and, the, kpa, are, twin...</td>\n",
       "    </tr>\n",
       "  </tbody>\n",
       "</table>\n",
       "</div>"
      ],
      "text/plain": [
       "                   id thread_number   timestamp  \\\n",
       "0  978874480968728576      thread 1  1522216837   \n",
       "1  978875352654188546      thread 1  1522217045   \n",
       "2  978875693722456064      thread 1  1522217126   \n",
       "3  978876717287772161      thread 1  1522217370   \n",
       "4  978876925161672705      thread 1  1522217420   \n",
       "\n",
       "                                                text  retweets  likes  \\\n",
       "0  (1) @deadofknight68 asks a question. https://t...       402    620   \n",
       "1  (2) in north korea, the kim family and the kor...        90    239   \n",
       "2  (3) the kpa needs a central figure who serves ...        59    216   \n",
       "3  (4) kpa generals live in palaces.\\r\\r\\n\\r\\r\\ns...        70    224   \n",
       "4  (5) the kim family and the kpa are twin mafias...        85    238   \n",
       "\n",
       "   replies                                          tokenized  \n",
       "0       33  [1, deadofknight68, asks, a, question, httpstc...  \n",
       "1        3  [2, in, north, korea, the, kim, family, and, t...  \n",
       "2        2  [3, the, kpa, needs, a, central, figure, who, ...  \n",
       "3        3  [4, kpa, generals, live, in, palaces, some, of...  \n",
       "4        2  [5, the, kim, family, and, the, kpa, are, twin...  "
      ]
     },
     "execution_count": 15,
     "metadata": {},
     "output_type": "execute_result"
    }
   ],
   "source": [
    "df.head()"
   ]
  },
  {
   "cell_type": "code",
   "execution_count": 16,
   "id": "2ee4b019",
   "metadata": {},
   "outputs": [
    {
     "name": "stderr",
     "output_type": "stream",
     "text": [
      "[nltk_data] Downloading package stopwords to C:\\Users\\Arjun\n",
      "[nltk_data]     V\\AppData\\Roaming\\nltk_data...\n",
      "[nltk_data]   Package stopwords is already up-to-date!\n"
     ]
    }
   ],
   "source": [
    "#removal of stop words\n",
    "nltk.download('stopwords')\n",
    "stop_words = set(stopwords.words('english'))\n",
    "df[\"tokenized\"] = df[\"tokenized\"].apply(lambda words: [word for word in words if word not in stop_words])"
   ]
  },
  {
   "cell_type": "code",
   "execution_count": 17,
   "id": "b96153a5",
   "metadata": {},
   "outputs": [
    {
     "data": {
      "text/html": [
       "<div>\n",
       "<style scoped>\n",
       "    .dataframe tbody tr th:only-of-type {\n",
       "        vertical-align: middle;\n",
       "    }\n",
       "\n",
       "    .dataframe tbody tr th {\n",
       "        vertical-align: top;\n",
       "    }\n",
       "\n",
       "    .dataframe thead th {\n",
       "        text-align: right;\n",
       "    }\n",
       "</style>\n",
       "<table border=\"1\" class=\"dataframe\">\n",
       "  <thead>\n",
       "    <tr style=\"text-align: right;\">\n",
       "      <th></th>\n",
       "      <th>id</th>\n",
       "      <th>thread_number</th>\n",
       "      <th>timestamp</th>\n",
       "      <th>text</th>\n",
       "      <th>retweets</th>\n",
       "      <th>likes</th>\n",
       "      <th>replies</th>\n",
       "      <th>tokenized</th>\n",
       "    </tr>\n",
       "  </thead>\n",
       "  <tbody>\n",
       "    <tr>\n",
       "      <th>0</th>\n",
       "      <td>978874480968728576</td>\n",
       "      <td>thread 1</td>\n",
       "      <td>1522216837</td>\n",
       "      <td>(1) @deadofknight68 asks a question. https://t...</td>\n",
       "      <td>402</td>\n",
       "      <td>620</td>\n",
       "      <td>33</td>\n",
       "      <td>[1, deadofknight68, asks, question, httpstcoib...</td>\n",
       "    </tr>\n",
       "    <tr>\n",
       "      <th>1</th>\n",
       "      <td>978875352654188546</td>\n",
       "      <td>thread 1</td>\n",
       "      <td>1522217045</td>\n",
       "      <td>(2) in north korea, the kim family and the kor...</td>\n",
       "      <td>90</td>\n",
       "      <td>239</td>\n",
       "      <td>3</td>\n",
       "      <td>[2, north, korea, kim, family, korean, peoples...</td>\n",
       "    </tr>\n",
       "    <tr>\n",
       "      <th>2</th>\n",
       "      <td>978875693722456064</td>\n",
       "      <td>thread 1</td>\n",
       "      <td>1522217126</td>\n",
       "      <td>(3) the kpa needs a central figure who serves ...</td>\n",
       "      <td>59</td>\n",
       "      <td>216</td>\n",
       "      <td>2</td>\n",
       "      <td>[3, kpa, needs, central, figure, serves, face,...</td>\n",
       "    </tr>\n",
       "    <tr>\n",
       "      <th>3</th>\n",
       "      <td>978876717287772161</td>\n",
       "      <td>thread 1</td>\n",
       "      <td>1522217370</td>\n",
       "      <td>(4) kpa generals live in palaces.\\r\\r\\n\\r\\r\\ns...</td>\n",
       "      <td>70</td>\n",
       "      <td>224</td>\n",
       "      <td>3</td>\n",
       "      <td>[4, kpa, generals, live, palaces, bigger, mall...</td>\n",
       "    </tr>\n",
       "    <tr>\n",
       "      <th>4</th>\n",
       "      <td>978876925161672705</td>\n",
       "      <td>thread 1</td>\n",
       "      <td>1522217420</td>\n",
       "      <td>(5) the kim family and the kpa are twin mafias...</td>\n",
       "      <td>85</td>\n",
       "      <td>238</td>\n",
       "      <td>2</td>\n",
       "      <td>[5, kim, family, kpa, twin, mafias, extort, wo...</td>\n",
       "    </tr>\n",
       "  </tbody>\n",
       "</table>\n",
       "</div>"
      ],
      "text/plain": [
       "                   id thread_number   timestamp  \\\n",
       "0  978874480968728576      thread 1  1522216837   \n",
       "1  978875352654188546      thread 1  1522217045   \n",
       "2  978875693722456064      thread 1  1522217126   \n",
       "3  978876717287772161      thread 1  1522217370   \n",
       "4  978876925161672705      thread 1  1522217420   \n",
       "\n",
       "                                                text  retweets  likes  \\\n",
       "0  (1) @deadofknight68 asks a question. https://t...       402    620   \n",
       "1  (2) in north korea, the kim family and the kor...        90    239   \n",
       "2  (3) the kpa needs a central figure who serves ...        59    216   \n",
       "3  (4) kpa generals live in palaces.\\r\\r\\n\\r\\r\\ns...        70    224   \n",
       "4  (5) the kim family and the kpa are twin mafias...        85    238   \n",
       "\n",
       "   replies                                          tokenized  \n",
       "0       33  [1, deadofknight68, asks, question, httpstcoib...  \n",
       "1        3  [2, north, korea, kim, family, korean, peoples...  \n",
       "2        2  [3, kpa, needs, central, figure, serves, face,...  \n",
       "3        3  [4, kpa, generals, live, palaces, bigger, mall...  \n",
       "4        2  [5, kim, family, kpa, twin, mafias, extort, wo...  "
      ]
     },
     "execution_count": 17,
     "metadata": {},
     "output_type": "execute_result"
    }
   ],
   "source": [
    "df.head()"
   ]
  },
  {
   "cell_type": "code",
   "execution_count": 18,
   "id": "3797d86d",
   "metadata": {},
   "outputs": [],
   "source": [
    "#using porterstemmer for stemming words\n",
    "stemmer = PorterStemmer()\n",
    "df['stemmed'] = df['tokenized'].apply(lambda x: [stemmer.stem(y) for y in x])"
   ]
  },
  {
   "cell_type": "code",
   "execution_count": 19,
   "id": "15dbea61",
   "metadata": {},
   "outputs": [
    {
     "data": {
      "text/html": [
       "<div>\n",
       "<style scoped>\n",
       "    .dataframe tbody tr th:only-of-type {\n",
       "        vertical-align: middle;\n",
       "    }\n",
       "\n",
       "    .dataframe tbody tr th {\n",
       "        vertical-align: top;\n",
       "    }\n",
       "\n",
       "    .dataframe thead th {\n",
       "        text-align: right;\n",
       "    }\n",
       "</style>\n",
       "<table border=\"1\" class=\"dataframe\">\n",
       "  <thead>\n",
       "    <tr style=\"text-align: right;\">\n",
       "      <th></th>\n",
       "      <th>id</th>\n",
       "      <th>thread_number</th>\n",
       "      <th>timestamp</th>\n",
       "      <th>text</th>\n",
       "      <th>retweets</th>\n",
       "      <th>likes</th>\n",
       "      <th>replies</th>\n",
       "      <th>tokenized</th>\n",
       "      <th>stemmed</th>\n",
       "    </tr>\n",
       "  </thead>\n",
       "  <tbody>\n",
       "    <tr>\n",
       "      <th>0</th>\n",
       "      <td>978874480968728576</td>\n",
       "      <td>thread 1</td>\n",
       "      <td>1522216837</td>\n",
       "      <td>(1) @deadofknight68 asks a question. https://t...</td>\n",
       "      <td>402</td>\n",
       "      <td>620</td>\n",
       "      <td>33</td>\n",
       "      <td>[1, deadofknight68, asks, question, httpstcoib...</td>\n",
       "      <td>[1, deadofknight68, ask, question, httpstcoibk...</td>\n",
       "    </tr>\n",
       "    <tr>\n",
       "      <th>1</th>\n",
       "      <td>978875352654188546</td>\n",
       "      <td>thread 1</td>\n",
       "      <td>1522217045</td>\n",
       "      <td>(2) in north korea, the kim family and the kor...</td>\n",
       "      <td>90</td>\n",
       "      <td>239</td>\n",
       "      <td>3</td>\n",
       "      <td>[2, north, korea, kim, family, korean, peoples...</td>\n",
       "      <td>[2, north, korea, kim, famili, korean, peopl, ...</td>\n",
       "    </tr>\n",
       "    <tr>\n",
       "      <th>2</th>\n",
       "      <td>978875693722456064</td>\n",
       "      <td>thread 1</td>\n",
       "      <td>1522217126</td>\n",
       "      <td>(3) the kpa needs a central figure who serves ...</td>\n",
       "      <td>59</td>\n",
       "      <td>216</td>\n",
       "      <td>2</td>\n",
       "      <td>[3, kpa, needs, central, figure, serves, face,...</td>\n",
       "      <td>[3, kpa, need, central, figur, serv, face, nat...</td>\n",
       "    </tr>\n",
       "    <tr>\n",
       "      <th>3</th>\n",
       "      <td>978876717287772161</td>\n",
       "      <td>thread 1</td>\n",
       "      <td>1522217370</td>\n",
       "      <td>(4) kpa generals live in palaces.\\r\\r\\n\\r\\r\\ns...</td>\n",
       "      <td>70</td>\n",
       "      <td>224</td>\n",
       "      <td>3</td>\n",
       "      <td>[4, kpa, generals, live, palaces, bigger, mall...</td>\n",
       "      <td>[4, kpa, gener, live, palac, bigger, mall, ame...</td>\n",
       "    </tr>\n",
       "    <tr>\n",
       "      <th>4</th>\n",
       "      <td>978876925161672705</td>\n",
       "      <td>thread 1</td>\n",
       "      <td>1522217420</td>\n",
       "      <td>(5) the kim family and the kpa are twin mafias...</td>\n",
       "      <td>85</td>\n",
       "      <td>238</td>\n",
       "      <td>2</td>\n",
       "      <td>[5, kim, family, kpa, twin, mafias, extort, wo...</td>\n",
       "      <td>[5, kim, famili, kpa, twin, mafia, extort, wor...</td>\n",
       "    </tr>\n",
       "  </tbody>\n",
       "</table>\n",
       "</div>"
      ],
      "text/plain": [
       "                   id thread_number   timestamp  \\\n",
       "0  978874480968728576      thread 1  1522216837   \n",
       "1  978875352654188546      thread 1  1522217045   \n",
       "2  978875693722456064      thread 1  1522217126   \n",
       "3  978876717287772161      thread 1  1522217370   \n",
       "4  978876925161672705      thread 1  1522217420   \n",
       "\n",
       "                                                text  retweets  likes  \\\n",
       "0  (1) @deadofknight68 asks a question. https://t...       402    620   \n",
       "1  (2) in north korea, the kim family and the kor...        90    239   \n",
       "2  (3) the kpa needs a central figure who serves ...        59    216   \n",
       "3  (4) kpa generals live in palaces.\\r\\r\\n\\r\\r\\ns...        70    224   \n",
       "4  (5) the kim family and the kpa are twin mafias...        85    238   \n",
       "\n",
       "   replies                                          tokenized  \\\n",
       "0       33  [1, deadofknight68, asks, question, httpstcoib...   \n",
       "1        3  [2, north, korea, kim, family, korean, peoples...   \n",
       "2        2  [3, kpa, needs, central, figure, serves, face,...   \n",
       "3        3  [4, kpa, generals, live, palaces, bigger, mall...   \n",
       "4        2  [5, kim, family, kpa, twin, mafias, extort, wo...   \n",
       "\n",
       "                                             stemmed  \n",
       "0  [1, deadofknight68, ask, question, httpstcoibk...  \n",
       "1  [2, north, korea, kim, famili, korean, peopl, ...  \n",
       "2  [3, kpa, need, central, figur, serv, face, nat...  \n",
       "3  [4, kpa, gener, live, palac, bigger, mall, ame...  \n",
       "4  [5, kim, famili, kpa, twin, mafia, extort, wor...  "
      ]
     },
     "execution_count": 19,
     "metadata": {},
     "output_type": "execute_result"
    }
   ],
   "source": [
    "df.head()"
   ]
  },
  {
   "cell_type": "code",
   "execution_count": 20,
   "id": "33c6e800",
   "metadata": {},
   "outputs": [],
   "source": [
    "\n",
    "my_dict = pd.Series(df.stemmed.values,index=df.id).to_dict()\n"
   ]
  },
  {
   "cell_type": "code",
   "execution_count": 21,
   "id": "104159dd",
   "metadata": {},
   "outputs": [
    {
     "data": {
      "text/plain": [
       "0    [1, deadofknight68, ask, question, httpstcoibk...\n",
       "1    [2, north, korea, kim, famili, korean, peopl, ...\n",
       "2    [3, kpa, need, central, figur, serv, face, nat...\n",
       "3    [4, kpa, gener, live, palac, bigger, mall, ame...\n",
       "4    [5, kim, famili, kpa, twin, mafia, extort, wor...\n",
       "Name: stemmed, dtype: object"
      ]
     },
     "execution_count": 21,
     "metadata": {},
     "output_type": "execute_result"
    }
   ],
   "source": [
    "my_list = df[\"stemmed\"]\n",
    "my_list[:5]"
   ]
  },
  {
   "cell_type": "code",
   "execution_count": 22,
   "id": "d8d747fd",
   "metadata": {},
   "outputs": [],
   "source": [
    "#contains all words in corpus\n",
    "words = []\n",
    "for key in my_dict:\n",
    "    for i in range(len(my_dict[key])):\n",
    "        term = my_dict[key][i]\n",
    "        words.append(term)"
   ]
  },
  {
   "cell_type": "code",
   "execution_count": 23,
   "id": "d19261ad",
   "metadata": {},
   "outputs": [],
   "source": [
    "#construction of inverted index\n",
    "length = len(my_list)\n",
    "inverted_index = {}\n",
    "for i in range(length):\n",
    "    check = my_list[i]\n",
    "    for item in words:\n",
    "        if item in check:\n",
    "            if item not in inverted_index:\n",
    "                inverted_index[item] = []\n",
    "            if item in inverted_index:\n",
    "                inverted_index[item].append(i+1)"
   ]
  },
  {
   "cell_type": "code",
   "execution_count": 24,
   "id": "42727341",
   "metadata": {},
   "outputs": [],
   "source": [
    "#obtaining the number of unique documents in inverted index\n",
    "for key in inverted_index:\n",
    "    inverted_index[key] = list(set(inverted_index[key]))"
   ]
  },
  {
   "cell_type": "code",
   "execution_count": 25,
   "id": "a00dce61",
   "metadata": {},
   "outputs": [
    {
     "data": {
      "text/plain": [
       "[960, 495]"
      ]
     },
     "execution_count": 25,
     "metadata": {},
     "output_type": "execute_result"
    }
   ],
   "source": [
    "inverted_index[\"wiki\"]"
   ]
  },
  {
   "cell_type": "code",
   "execution_count": 26,
   "id": "5c58c035",
   "metadata": {},
   "outputs": [],
   "source": [
    "#process of query\n",
    "def process_query(query):\n",
    "    query = query.lower()\n",
    "    query = word_tokenize(query)\n",
    "    query = [stemmer.stem(word) for word in query]\n",
    "    return query\n",
    "\n",
    "#process of request\n",
    "def process_request(query):\n",
    "    res = inverted_index[query[0]]\n",
    "    for i in range(1,len(query),2):\n",
    "        word2 = inverted_index[query[i+1]]\n",
    "        if query[i] == \"and\":\n",
    "            res = [i for i in res if i in word2]\n",
    "        elif query[i] == \"or\":\n",
    "            res = list(set(res + inverted_index[query[i+1]]))\n",
    "        elif query[i] == \"not\":\n",
    "            res =  list(set(res) - set(word2))\n",
    "    return res"
   ]
  },
  {
   "cell_type": "code",
   "execution_count": 35,
   "id": "83ed2824",
   "metadata": {},
   "outputs": [
    {
     "name": "stdout",
     "output_type": "stream",
     "text": [
      "enter the query : north or kim\n"
     ]
    }
   ],
   "source": [
    "query = input(\"enter the query : \")\n",
    "query = process_query(query)"
   ]
  },
  {
   "cell_type": "code",
   "execution_count": 36,
   "id": "425d2c62",
   "metadata": {},
   "outputs": [
    {
     "name": "stdout",
     "output_type": "stream",
     "text": [
      "[2528, 1819, 2, 3, 5, 6, 7, 11, 975, 306, 2523, 23, 24, 2070, 26, 1883, 1882, 30]\n"
     ]
    }
   ],
   "source": [
    "result = process_request(query)\n",
    "print(result)"
   ]
  },
  {
   "cell_type": "code",
   "execution_count": null,
   "id": "dba6e957",
   "metadata": {},
   "outputs": [],
   "source": []
  },
  {
   "cell_type": "code",
   "execution_count": null,
   "id": "90c8586a",
   "metadata": {},
   "outputs": [],
   "source": []
  }
 ],
 "metadata": {
  "kernelspec": {
   "display_name": "Python 3 (ipykernel)",
   "language": "python",
   "name": "python3"
  },
  "language_info": {
   "codemirror_mode": {
    "name": "ipython",
    "version": 3
   },
   "file_extension": ".py",
   "mimetype": "text/x-python",
   "name": "python",
   "nbconvert_exporter": "python",
   "pygments_lexer": "ipython3",
   "version": "3.9.7"
  }
 },
 "nbformat": 4,
 "nbformat_minor": 5
}
