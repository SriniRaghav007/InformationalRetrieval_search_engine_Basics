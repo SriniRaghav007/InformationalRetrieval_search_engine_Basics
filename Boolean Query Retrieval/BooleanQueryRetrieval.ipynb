{
 "cells": [
  {
   "cell_type": "code",
   "execution_count": 1,
   "id": "9fd4e87e",
   "metadata": {},
   "outputs": [],
   "source": [
    "import numpy as np\n",
    "import pandas as pd\n",
    "import nltk\n",
    "from nltk.tokenize import sent_tokenize,word_tokenize\n",
    "from nltk.corpus import stopwords\n",
    "from nltk.tokenize import TweetTokenizer\n",
    "from nltk.stem import PorterStemmer"
   ]
  },
  {
   "cell_type": "code",
   "execution_count": 2,
   "id": "2ae9a1b4",
   "metadata": {},
   "outputs": [
    {
     "name": "stderr",
     "output_type": "stream",
     "text": [
      "[nltk_data] Downloading package punkt to C:\\Users\\Arjun\n",
      "[nltk_data]     V\\AppData\\Roaming\\nltk_data...\n",
      "[nltk_data]   Package punkt is already up-to-date!\n"
     ]
    },
    {
     "data": {
      "text/plain": [
       "True"
      ]
     },
     "execution_count": 2,
     "metadata": {},
     "output_type": "execute_result"
    }
   ],
   "source": [
    "nltk.download(\"punkt\")"
   ]
  },
  {
   "cell_type": "code",
   "execution_count": 3,
   "id": "bffcca01",
   "metadata": {},
   "outputs": [],
   "source": [
    "df = pd.read_csv(\"train.csv\")"
   ]
  },
  {
   "cell_type": "code",
   "execution_count": 4,
   "id": "079629db",
   "metadata": {},
   "outputs": [
    {
     "data": {
      "text/html": [
       "<div>\n",
       "<style scoped>\n",
       "    .dataframe tbody tr th:only-of-type {\n",
       "        vertical-align: middle;\n",
       "    }\n",
       "\n",
       "    .dataframe tbody tr th {\n",
       "        vertical-align: top;\n",
       "    }\n",
       "\n",
       "    .dataframe thead th {\n",
       "        text-align: right;\n",
       "    }\n",
       "</style>\n",
       "<table border=\"1\" class=\"dataframe\">\n",
       "  <thead>\n",
       "    <tr style=\"text-align: right;\">\n",
       "      <th></th>\n",
       "      <th>id</th>\n",
       "      <th>comment_text</th>\n",
       "      <th>toxic</th>\n",
       "    </tr>\n",
       "  </thead>\n",
       "  <tbody>\n",
       "    <tr>\n",
       "      <th>0</th>\n",
       "      <td>e617e2489abe9bca</td>\n",
       "      <td>\"\\r\\n\\r\\n A barnstar for you! \\r\\n\\r\\n  The De...</td>\n",
       "      <td>0</td>\n",
       "    </tr>\n",
       "    <tr>\n",
       "      <th>1</th>\n",
       "      <td>9250cf637294e09d</td>\n",
       "      <td>\"\\r\\n\\r\\nThis seems unbalanced.  whatever I ha...</td>\n",
       "      <td>0</td>\n",
       "    </tr>\n",
       "    <tr>\n",
       "      <th>2</th>\n",
       "      <td>ce1aa4592d5240ca</td>\n",
       "      <td>Marya Dzmitruk was born in Minsk, Belarus in M...</td>\n",
       "      <td>0</td>\n",
       "    </tr>\n",
       "    <tr>\n",
       "      <th>3</th>\n",
       "      <td>48105766ff7f075b</td>\n",
       "      <td>\"\\r\\n\\r\\nTalkback\\r\\n\\r\\n Dear Celestia...  \"</td>\n",
       "      <td>0</td>\n",
       "    </tr>\n",
       "    <tr>\n",
       "      <th>4</th>\n",
       "      <td>0543d4f82e5470b6</td>\n",
       "      <td>New Categories \\r\\n\\r\\nI honestly think that w...</td>\n",
       "      <td>0</td>\n",
       "    </tr>\n",
       "  </tbody>\n",
       "</table>\n",
       "</div>"
      ],
      "text/plain": [
       "                 id                                       comment_text  toxic\n",
       "0  e617e2489abe9bca  \"\\r\\n\\r\\n A barnstar for you! \\r\\n\\r\\n  The De...      0\n",
       "1  9250cf637294e09d  \"\\r\\n\\r\\nThis seems unbalanced.  whatever I ha...      0\n",
       "2  ce1aa4592d5240ca  Marya Dzmitruk was born in Minsk, Belarus in M...      0\n",
       "3  48105766ff7f075b      \"\\r\\n\\r\\nTalkback\\r\\n\\r\\n Dear Celestia...  \"      0\n",
       "4  0543d4f82e5470b6  New Categories \\r\\n\\r\\nI honestly think that w...      0"
      ]
     },
     "execution_count": 4,
     "metadata": {},
     "output_type": "execute_result"
    }
   ],
   "source": [
    "df.head()"
   ]
  },
  {
   "cell_type": "code",
   "execution_count": 5,
   "id": "65c36a9c",
   "metadata": {},
   "outputs": [
    {
     "name": "stderr",
     "output_type": "stream",
     "text": [
      "C:\\Users\\ARJUNV~1\\AppData\\Local\\Temp/ipykernel_36888/1293593572.py:3: FutureWarning: The default value of regex will change from True to False in a future version.\n",
      "  df[\"tokenized\"] = df['tokenized'].str.replace('[^\\w\\s]','')\n"
     ]
    }
   ],
   "source": [
    "df[\"tokenized\"] = df[\"comment_text\"]\n",
    "df = df.apply(lambda x: x.str.lower() if x.dtype == \"object\" else x) \n",
    "df[\"tokenized\"] = df['tokenized'].str.replace('[^\\w\\s]','')"
   ]
  },
  {
   "cell_type": "code",
   "execution_count": 6,
   "id": "f87637f2",
   "metadata": {},
   "outputs": [
    {
     "data": {
      "text/html": [
       "<div>\n",
       "<style scoped>\n",
       "    .dataframe tbody tr th:only-of-type {\n",
       "        vertical-align: middle;\n",
       "    }\n",
       "\n",
       "    .dataframe tbody tr th {\n",
       "        vertical-align: top;\n",
       "    }\n",
       "\n",
       "    .dataframe thead th {\n",
       "        text-align: right;\n",
       "    }\n",
       "</style>\n",
       "<table border=\"1\" class=\"dataframe\">\n",
       "  <thead>\n",
       "    <tr style=\"text-align: right;\">\n",
       "      <th></th>\n",
       "      <th>id</th>\n",
       "      <th>comment_text</th>\n",
       "      <th>toxic</th>\n",
       "      <th>tokenized</th>\n",
       "    </tr>\n",
       "  </thead>\n",
       "  <tbody>\n",
       "    <tr>\n",
       "      <th>0</th>\n",
       "      <td>e617e2489abe9bca</td>\n",
       "      <td>\"\\r\\n\\r\\n a barnstar for you! \\r\\n\\r\\n  the de...</td>\n",
       "      <td>0</td>\n",
       "      <td>\\r\\n\\r\\n a barnstar for you \\r\\n\\r\\n  the defe...</td>\n",
       "    </tr>\n",
       "    <tr>\n",
       "      <th>1</th>\n",
       "      <td>9250cf637294e09d</td>\n",
       "      <td>\"\\r\\n\\r\\nthis seems unbalanced.  whatever i ha...</td>\n",
       "      <td>0</td>\n",
       "      <td>\\r\\n\\r\\nthis seems unbalanced  whatever i have...</td>\n",
       "    </tr>\n",
       "    <tr>\n",
       "      <th>2</th>\n",
       "      <td>ce1aa4592d5240ca</td>\n",
       "      <td>marya dzmitruk was born in minsk, belarus in m...</td>\n",
       "      <td>0</td>\n",
       "      <td>marya dzmitruk was born in minsk belarus in ma...</td>\n",
       "    </tr>\n",
       "    <tr>\n",
       "      <th>3</th>\n",
       "      <td>48105766ff7f075b</td>\n",
       "      <td>\"\\r\\n\\r\\ntalkback\\r\\n\\r\\n dear celestia...  \"</td>\n",
       "      <td>0</td>\n",
       "      <td>\\r\\n\\r\\ntalkback\\r\\n\\r\\n dear celestia</td>\n",
       "    </tr>\n",
       "    <tr>\n",
       "      <th>4</th>\n",
       "      <td>0543d4f82e5470b6</td>\n",
       "      <td>new categories \\r\\n\\r\\ni honestly think that w...</td>\n",
       "      <td>0</td>\n",
       "      <td>new categories \\r\\n\\r\\ni honestly think that w...</td>\n",
       "    </tr>\n",
       "  </tbody>\n",
       "</table>\n",
       "</div>"
      ],
      "text/plain": [
       "                 id                                       comment_text  toxic  \\\n",
       "0  e617e2489abe9bca  \"\\r\\n\\r\\n a barnstar for you! \\r\\n\\r\\n  the de...      0   \n",
       "1  9250cf637294e09d  \"\\r\\n\\r\\nthis seems unbalanced.  whatever i ha...      0   \n",
       "2  ce1aa4592d5240ca  marya dzmitruk was born in minsk, belarus in m...      0   \n",
       "3  48105766ff7f075b      \"\\r\\n\\r\\ntalkback\\r\\n\\r\\n dear celestia...  \"      0   \n",
       "4  0543d4f82e5470b6  new categories \\r\\n\\r\\ni honestly think that w...      0   \n",
       "\n",
       "                                           tokenized  \n",
       "0  \\r\\n\\r\\n a barnstar for you \\r\\n\\r\\n  the defe...  \n",
       "1  \\r\\n\\r\\nthis seems unbalanced  whatever i have...  \n",
       "2  marya dzmitruk was born in minsk belarus in ma...  \n",
       "3           \\r\\n\\r\\ntalkback\\r\\n\\r\\n dear celestia    \n",
       "4  new categories \\r\\n\\r\\ni honestly think that w...  "
      ]
     },
     "execution_count": 6,
     "metadata": {},
     "output_type": "execute_result"
    }
   ],
   "source": [
    "df.head()"
   ]
  },
  {
   "cell_type": "code",
   "execution_count": 7,
   "id": "3a78509f",
   "metadata": {},
   "outputs": [
    {
     "data": {
      "text/plain": [
       "0    [a, barnstar, for, you, the, defender, of, the...\n",
       "1    [this, seems, unbalanced, whatever, i, have, s...\n",
       "2    [marya, dzmitruk, was, born, in, minsk, belaru...\n",
       "3                           [talkback, dear, celestia]\n",
       "4    [new, categories, i, honestly, think, that, we...\n",
       "Name: tokenized, dtype: object"
      ]
     },
     "execution_count": 7,
     "metadata": {},
     "output_type": "execute_result"
    }
   ],
   "source": [
    "df[\"tokenized\"] = df[\"tokenized\"].apply(word_tokenize)\n",
    "df[\"tokenized\"].head()"
   ]
  },
  {
   "cell_type": "code",
   "execution_count": 8,
   "id": "dc129503",
   "metadata": {},
   "outputs": [
    {
     "data": {
      "text/html": [
       "<div>\n",
       "<style scoped>\n",
       "    .dataframe tbody tr th:only-of-type {\n",
       "        vertical-align: middle;\n",
       "    }\n",
       "\n",
       "    .dataframe tbody tr th {\n",
       "        vertical-align: top;\n",
       "    }\n",
       "\n",
       "    .dataframe thead th {\n",
       "        text-align: right;\n",
       "    }\n",
       "</style>\n",
       "<table border=\"1\" class=\"dataframe\">\n",
       "  <thead>\n",
       "    <tr style=\"text-align: right;\">\n",
       "      <th></th>\n",
       "      <th>id</th>\n",
       "      <th>comment_text</th>\n",
       "      <th>toxic</th>\n",
       "      <th>tokenized</th>\n",
       "    </tr>\n",
       "  </thead>\n",
       "  <tbody>\n",
       "    <tr>\n",
       "      <th>0</th>\n",
       "      <td>e617e2489abe9bca</td>\n",
       "      <td>\"\\r\\n\\r\\n a barnstar for you! \\r\\n\\r\\n  the de...</td>\n",
       "      <td>0</td>\n",
       "      <td>[a, barnstar, for, you, the, defender, of, the...</td>\n",
       "    </tr>\n",
       "    <tr>\n",
       "      <th>1</th>\n",
       "      <td>9250cf637294e09d</td>\n",
       "      <td>\"\\r\\n\\r\\nthis seems unbalanced.  whatever i ha...</td>\n",
       "      <td>0</td>\n",
       "      <td>[this, seems, unbalanced, whatever, i, have, s...</td>\n",
       "    </tr>\n",
       "    <tr>\n",
       "      <th>2</th>\n",
       "      <td>ce1aa4592d5240ca</td>\n",
       "      <td>marya dzmitruk was born in minsk, belarus in m...</td>\n",
       "      <td>0</td>\n",
       "      <td>[marya, dzmitruk, was, born, in, minsk, belaru...</td>\n",
       "    </tr>\n",
       "    <tr>\n",
       "      <th>3</th>\n",
       "      <td>48105766ff7f075b</td>\n",
       "      <td>\"\\r\\n\\r\\ntalkback\\r\\n\\r\\n dear celestia...  \"</td>\n",
       "      <td>0</td>\n",
       "      <td>[talkback, dear, celestia]</td>\n",
       "    </tr>\n",
       "    <tr>\n",
       "      <th>4</th>\n",
       "      <td>0543d4f82e5470b6</td>\n",
       "      <td>new categories \\r\\n\\r\\ni honestly think that w...</td>\n",
       "      <td>0</td>\n",
       "      <td>[new, categories, i, honestly, think, that, we...</td>\n",
       "    </tr>\n",
       "  </tbody>\n",
       "</table>\n",
       "</div>"
      ],
      "text/plain": [
       "                 id                                       comment_text  toxic  \\\n",
       "0  e617e2489abe9bca  \"\\r\\n\\r\\n a barnstar for you! \\r\\n\\r\\n  the de...      0   \n",
       "1  9250cf637294e09d  \"\\r\\n\\r\\nthis seems unbalanced.  whatever i ha...      0   \n",
       "2  ce1aa4592d5240ca  marya dzmitruk was born in minsk, belarus in m...      0   \n",
       "3  48105766ff7f075b      \"\\r\\n\\r\\ntalkback\\r\\n\\r\\n dear celestia...  \"      0   \n",
       "4  0543d4f82e5470b6  new categories \\r\\n\\r\\ni honestly think that w...      0   \n",
       "\n",
       "                                           tokenized  \n",
       "0  [a, barnstar, for, you, the, defender, of, the...  \n",
       "1  [this, seems, unbalanced, whatever, i, have, s...  \n",
       "2  [marya, dzmitruk, was, born, in, minsk, belaru...  \n",
       "3                         [talkback, dear, celestia]  \n",
       "4  [new, categories, i, honestly, think, that, we...  "
      ]
     },
     "execution_count": 8,
     "metadata": {},
     "output_type": "execute_result"
    }
   ],
   "source": [
    "df.head()"
   ]
  },
  {
   "cell_type": "code",
   "execution_count": 9,
   "id": "2ee4b019",
   "metadata": {},
   "outputs": [
    {
     "name": "stderr",
     "output_type": "stream",
     "text": [
      "[nltk_data] Downloading package stopwords to C:\\Users\\Arjun\n",
      "[nltk_data]     V\\AppData\\Roaming\\nltk_data...\n",
      "[nltk_data]   Package stopwords is already up-to-date!\n"
     ]
    }
   ],
   "source": [
    "nltk.download('stopwords')\n",
    "stop_words = set(stopwords.words('english'))\n",
    "df[\"tokenized\"] = df[\"tokenized\"].apply(lambda words: [word for word in words if word not in stop_words])"
   ]
  },
  {
   "cell_type": "code",
   "execution_count": 10,
   "id": "b96153a5",
   "metadata": {},
   "outputs": [
    {
     "data": {
      "text/html": [
       "<div>\n",
       "<style scoped>\n",
       "    .dataframe tbody tr th:only-of-type {\n",
       "        vertical-align: middle;\n",
       "    }\n",
       "\n",
       "    .dataframe tbody tr th {\n",
       "        vertical-align: top;\n",
       "    }\n",
       "\n",
       "    .dataframe thead th {\n",
       "        text-align: right;\n",
       "    }\n",
       "</style>\n",
       "<table border=\"1\" class=\"dataframe\">\n",
       "  <thead>\n",
       "    <tr style=\"text-align: right;\">\n",
       "      <th></th>\n",
       "      <th>id</th>\n",
       "      <th>comment_text</th>\n",
       "      <th>toxic</th>\n",
       "      <th>tokenized</th>\n",
       "    </tr>\n",
       "  </thead>\n",
       "  <tbody>\n",
       "    <tr>\n",
       "      <th>0</th>\n",
       "      <td>e617e2489abe9bca</td>\n",
       "      <td>\"\\r\\n\\r\\n a barnstar for you! \\r\\n\\r\\n  the de...</td>\n",
       "      <td>0</td>\n",
       "      <td>[barnstar, defender, wiki, barnstar, like, edi...</td>\n",
       "    </tr>\n",
       "    <tr>\n",
       "      <th>1</th>\n",
       "      <td>9250cf637294e09d</td>\n",
       "      <td>\"\\r\\n\\r\\nthis seems unbalanced.  whatever i ha...</td>\n",
       "      <td>0</td>\n",
       "      <td>[seems, unbalanced, whatever, said, mathsci, s...</td>\n",
       "    </tr>\n",
       "    <tr>\n",
       "      <th>2</th>\n",
       "      <td>ce1aa4592d5240ca</td>\n",
       "      <td>marya dzmitruk was born in minsk, belarus in m...</td>\n",
       "      <td>0</td>\n",
       "      <td>[marya, dzmitruk, born, minsk, belarus, march,...</td>\n",
       "    </tr>\n",
       "    <tr>\n",
       "      <th>3</th>\n",
       "      <td>48105766ff7f075b</td>\n",
       "      <td>\"\\r\\n\\r\\ntalkback\\r\\n\\r\\n dear celestia...  \"</td>\n",
       "      <td>0</td>\n",
       "      <td>[talkback, dear, celestia]</td>\n",
       "    </tr>\n",
       "    <tr>\n",
       "      <th>4</th>\n",
       "      <td>0543d4f82e5470b6</td>\n",
       "      <td>new categories \\r\\n\\r\\ni honestly think that w...</td>\n",
       "      <td>0</td>\n",
       "      <td>[new, categories, honestly, think, need, add, ...</td>\n",
       "    </tr>\n",
       "  </tbody>\n",
       "</table>\n",
       "</div>"
      ],
      "text/plain": [
       "                 id                                       comment_text  toxic  \\\n",
       "0  e617e2489abe9bca  \"\\r\\n\\r\\n a barnstar for you! \\r\\n\\r\\n  the de...      0   \n",
       "1  9250cf637294e09d  \"\\r\\n\\r\\nthis seems unbalanced.  whatever i ha...      0   \n",
       "2  ce1aa4592d5240ca  marya dzmitruk was born in minsk, belarus in m...      0   \n",
       "3  48105766ff7f075b      \"\\r\\n\\r\\ntalkback\\r\\n\\r\\n dear celestia...  \"      0   \n",
       "4  0543d4f82e5470b6  new categories \\r\\n\\r\\ni honestly think that w...      0   \n",
       "\n",
       "                                           tokenized  \n",
       "0  [barnstar, defender, wiki, barnstar, like, edi...  \n",
       "1  [seems, unbalanced, whatever, said, mathsci, s...  \n",
       "2  [marya, dzmitruk, born, minsk, belarus, march,...  \n",
       "3                         [talkback, dear, celestia]  \n",
       "4  [new, categories, honestly, think, need, add, ...  "
      ]
     },
     "execution_count": 10,
     "metadata": {},
     "output_type": "execute_result"
    }
   ],
   "source": [
    "df.head()"
   ]
  },
  {
   "cell_type": "code",
   "execution_count": 11,
   "id": "3797d86d",
   "metadata": {},
   "outputs": [],
   "source": [
    "stemmer = PorterStemmer()\n",
    "df['stemmed'] = df['tokenized'].apply(lambda x: [stemmer.stem(y) for y in x])"
   ]
  },
  {
   "cell_type": "code",
   "execution_count": 12,
   "id": "15dbea61",
   "metadata": {},
   "outputs": [
    {
     "data": {
      "text/html": [
       "<div>\n",
       "<style scoped>\n",
       "    .dataframe tbody tr th:only-of-type {\n",
       "        vertical-align: middle;\n",
       "    }\n",
       "\n",
       "    .dataframe tbody tr th {\n",
       "        vertical-align: top;\n",
       "    }\n",
       "\n",
       "    .dataframe thead th {\n",
       "        text-align: right;\n",
       "    }\n",
       "</style>\n",
       "<table border=\"1\" class=\"dataframe\">\n",
       "  <thead>\n",
       "    <tr style=\"text-align: right;\">\n",
       "      <th></th>\n",
       "      <th>id</th>\n",
       "      <th>comment_text</th>\n",
       "      <th>toxic</th>\n",
       "      <th>tokenized</th>\n",
       "      <th>stemmed</th>\n",
       "    </tr>\n",
       "  </thead>\n",
       "  <tbody>\n",
       "    <tr>\n",
       "      <th>0</th>\n",
       "      <td>e617e2489abe9bca</td>\n",
       "      <td>\"\\r\\n\\r\\n a barnstar for you! \\r\\n\\r\\n  the de...</td>\n",
       "      <td>0</td>\n",
       "      <td>[barnstar, defender, wiki, barnstar, like, edi...</td>\n",
       "      <td>[barnstar, defend, wiki, barnstar, like, edit,...</td>\n",
       "    </tr>\n",
       "    <tr>\n",
       "      <th>1</th>\n",
       "      <td>9250cf637294e09d</td>\n",
       "      <td>\"\\r\\n\\r\\nthis seems unbalanced.  whatever i ha...</td>\n",
       "      <td>0</td>\n",
       "      <td>[seems, unbalanced, whatever, said, mathsci, s...</td>\n",
       "      <td>[seem, unbalanc, whatev, said, mathsci, said, ...</td>\n",
       "    </tr>\n",
       "    <tr>\n",
       "      <th>2</th>\n",
       "      <td>ce1aa4592d5240ca</td>\n",
       "      <td>marya dzmitruk was born in minsk, belarus in m...</td>\n",
       "      <td>0</td>\n",
       "      <td>[marya, dzmitruk, born, minsk, belarus, march,...</td>\n",
       "      <td>[marya, dzmitruk, born, minsk, belaru, march, ...</td>\n",
       "    </tr>\n",
       "    <tr>\n",
       "      <th>3</th>\n",
       "      <td>48105766ff7f075b</td>\n",
       "      <td>\"\\r\\n\\r\\ntalkback\\r\\n\\r\\n dear celestia...  \"</td>\n",
       "      <td>0</td>\n",
       "      <td>[talkback, dear, celestia]</td>\n",
       "      <td>[talkback, dear, celestia]</td>\n",
       "    </tr>\n",
       "    <tr>\n",
       "      <th>4</th>\n",
       "      <td>0543d4f82e5470b6</td>\n",
       "      <td>new categories \\r\\n\\r\\ni honestly think that w...</td>\n",
       "      <td>0</td>\n",
       "      <td>[new, categories, honestly, think, need, add, ...</td>\n",
       "      <td>[new, categori, honestli, think, need, add, ca...</td>\n",
       "    </tr>\n",
       "  </tbody>\n",
       "</table>\n",
       "</div>"
      ],
      "text/plain": [
       "                 id                                       comment_text  toxic  \\\n",
       "0  e617e2489abe9bca  \"\\r\\n\\r\\n a barnstar for you! \\r\\n\\r\\n  the de...      0   \n",
       "1  9250cf637294e09d  \"\\r\\n\\r\\nthis seems unbalanced.  whatever i ha...      0   \n",
       "2  ce1aa4592d5240ca  marya dzmitruk was born in minsk, belarus in m...      0   \n",
       "3  48105766ff7f075b      \"\\r\\n\\r\\ntalkback\\r\\n\\r\\n dear celestia...  \"      0   \n",
       "4  0543d4f82e5470b6  new categories \\r\\n\\r\\ni honestly think that w...      0   \n",
       "\n",
       "                                           tokenized  \\\n",
       "0  [barnstar, defender, wiki, barnstar, like, edi...   \n",
       "1  [seems, unbalanced, whatever, said, mathsci, s...   \n",
       "2  [marya, dzmitruk, born, minsk, belarus, march,...   \n",
       "3                         [talkback, dear, celestia]   \n",
       "4  [new, categories, honestly, think, need, add, ...   \n",
       "\n",
       "                                             stemmed  \n",
       "0  [barnstar, defend, wiki, barnstar, like, edit,...  \n",
       "1  [seem, unbalanc, whatev, said, mathsci, said, ...  \n",
       "2  [marya, dzmitruk, born, minsk, belaru, march, ...  \n",
       "3                         [talkback, dear, celestia]  \n",
       "4  [new, categori, honestli, think, need, add, ca...  "
      ]
     },
     "execution_count": 12,
     "metadata": {},
     "output_type": "execute_result"
    }
   ],
   "source": [
    "df.head()"
   ]
  },
  {
   "cell_type": "code",
   "execution_count": 13,
   "id": "33c6e800",
   "metadata": {},
   "outputs": [],
   "source": [
    "my_dict = pd.Series(df.stemmed.values,index=df.id).to_dict()\n"
   ]
  },
  {
   "cell_type": "code",
   "execution_count": 14,
   "id": "104159dd",
   "metadata": {},
   "outputs": [
    {
     "data": {
      "text/plain": [
       "0    [barnstar, defend, wiki, barnstar, like, edit,...\n",
       "1    [seem, unbalanc, whatev, said, mathsci, said, ...\n",
       "2    [marya, dzmitruk, born, minsk, belaru, march, ...\n",
       "3                           [talkback, dear, celestia]\n",
       "4    [new, categori, honestli, think, need, add, ca...\n",
       "Name: stemmed, dtype: object"
      ]
     },
     "execution_count": 14,
     "metadata": {},
     "output_type": "execute_result"
    }
   ],
   "source": [
    "my_list = df[\"stemmed\"]\n",
    "my_list[:5]"
   ]
  },
  {
   "cell_type": "code",
   "execution_count": 15,
   "id": "d8d747fd",
   "metadata": {},
   "outputs": [],
   "source": [
    "words = []\n",
    "for key in my_dict:\n",
    "    for i in range(len(my_dict[key])):\n",
    "        term = my_dict[key][i]\n",
    "        words.append(term)"
   ]
  },
  {
   "cell_type": "code",
   "execution_count": 16,
   "id": "d19261ad",
   "metadata": {},
   "outputs": [],
   "source": [
    "length = len(my_list)\n",
    "inverted_index = {}\n",
    "for i in range(length):\n",
    "    check = my_list[i]\n",
    "    for item in words:\n",
    "        if item in check:\n",
    "            if item not in inverted_index:\n",
    "                inverted_index[item] = []\n",
    "            if item in inverted_index:\n",
    "                inverted_index[item].append(i+1)"
   ]
  },
  {
   "cell_type": "code",
   "execution_count": 17,
   "id": "42727341",
   "metadata": {},
   "outputs": [],
   "source": [
    "for key in inverted_index:\n",
    "    inverted_index[key] = list(set(inverted_index[key]))"
   ]
  },
  {
   "cell_type": "code",
   "execution_count": 18,
   "id": "a00dce61",
   "metadata": {},
   "outputs": [
    {
     "data": {
      "text/plain": [
       "[3]"
      ]
     },
     "execution_count": 18,
     "metadata": {},
     "output_type": "execute_result"
    }
   ],
   "source": [
    "inverted_index[\"minsk\"]"
   ]
  },
  {
   "cell_type": "code",
   "execution_count": 64,
   "id": "5c58c035",
   "metadata": {},
   "outputs": [],
   "source": [
    "def process_query(query):\n",
    "    query = query.lower()\n",
    "    query = word_tokenize(query)\n",
    "    query = [stemmer.stem(word) for word in query]\n",
    "    return query\n",
    "\n",
    "def process_request(query):\n",
    "    res = inverted_index[query[0]]\n",
    "    for i in range(1,len(query),2):\n",
    "        word2 = inverted_index[query[i+1]]\n",
    "        if query[i] == \"and\":\n",
    "            res = [i for i in res if i in word2]\n",
    "        elif query[i] == \"or\":\n",
    "            res = res + inverted_index[query[i+1]]\n",
    "        elif query[i] == \"not\":\n",
    "            res =  list(set(res) - set(word2))\n",
    "    return res"
   ]
  },
  {
   "cell_type": "code",
   "execution_count": 68,
   "id": "83ed2824",
   "metadata": {},
   "outputs": [
    {
     "name": "stdout",
     "output_type": "stream",
     "text": [
      "enter the query : brutus and calapurnia\n"
     ]
    }
   ],
   "source": [
    "query = input(\"enter the query : \")\n",
    "query = process_query(query)"
   ]
  },
  {
   "cell_type": "code",
   "execution_count": 66,
   "id": "425d2c62",
   "metadata": {},
   "outputs": [
    {
     "name": "stdout",
     "output_type": "stream",
     "text": [
      "[2088, 3196, 1484, 3853]\n"
     ]
    }
   ],
   "source": [
    "result = process_request(query)\n",
    "print(result)"
   ]
  },
  {
   "cell_type": "code",
   "execution_count": null,
   "id": "dba6e957",
   "metadata": {},
   "outputs": [],
   "source": []
  },
  {
   "cell_type": "code",
   "execution_count": null,
   "id": "90c8586a",
   "metadata": {},
   "outputs": [],
   "source": []
  }
 ],
 "metadata": {
  "kernelspec": {
   "display_name": "Python 3 (ipykernel)",
   "language": "python",
   "name": "python3"
  },
  "language_info": {
   "codemirror_mode": {
    "name": "ipython",
    "version": 3
   },
   "file_extension": ".py",
   "mimetype": "text/x-python",
   "name": "python",
   "nbconvert_exporter": "python",
   "pygments_lexer": "ipython3",
   "version": "3.9.7"
  }
 },
 "nbformat": 4,
 "nbformat_minor": 5
}
