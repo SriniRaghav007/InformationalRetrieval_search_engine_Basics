{
 "cells": [
  {
   "cell_type": "code",
   "execution_count": 1,
   "metadata": {
    "id": "HQuAIebJdlpZ"
   },
   "outputs": [],
   "source": [
    "import numpy as np\n",
    "import pandas as pd\n",
    "import nltk\n",
    "from nltk.tokenize import sent_tokenize,word_tokenize\n",
    "from nltk.corpus import stopwords\n",
    "from nltk.tokenize import TweetTokenizer\n",
    "from nltk.stem import PorterStemmer"
   ]
  },
  {
   "cell_type": "code",
   "execution_count": 2,
   "metadata": {
    "colab": {
     "base_uri": "https://localhost:8080/"
    },
    "id": "U_OmoB7xg555",
    "outputId": "0c3b118f-5c3e-4f24-952c-683712fb86e6"
   },
   "outputs": [
    {
     "name": "stderr",
     "output_type": "stream",
     "text": [
      "[nltk_data] Downloading package punkt to C:\\Users\\Arjun\n",
      "[nltk_data]     V\\AppData\\Roaming\\nltk_data...\n",
      "[nltk_data]   Package punkt is already up-to-date!\n"
     ]
    },
    {
     "data": {
      "text/plain": [
       "True"
      ]
     },
     "execution_count": 2,
     "metadata": {},
     "output_type": "execute_result"
    }
   ],
   "source": [
    "nltk.download(\"punkt\")"
   ]
  },
  {
   "cell_type": "code",
   "execution_count": 3,
   "metadata": {
    "id": "gOHX9bkghW7F"
   },
   "outputs": [],
   "source": [
    "df = pd.read_csv(\"train.csv\")"
   ]
  },
  {
   "cell_type": "code",
   "execution_count": 4,
   "metadata": {
    "colab": {
     "base_uri": "https://localhost:8080/",
     "height": 206
    },
    "id": "sgJIbEjvhgM2",
    "outputId": "993d14a1-7ea3-4fbb-9e05-224285e8763b"
   },
   "outputs": [
    {
     "data": {
      "text/html": [
       "<div>\n",
       "<style scoped>\n",
       "    .dataframe tbody tr th:only-of-type {\n",
       "        vertical-align: middle;\n",
       "    }\n",
       "\n",
       "    .dataframe tbody tr th {\n",
       "        vertical-align: top;\n",
       "    }\n",
       "\n",
       "    .dataframe thead th {\n",
       "        text-align: right;\n",
       "    }\n",
       "</style>\n",
       "<table border=\"1\" class=\"dataframe\">\n",
       "  <thead>\n",
       "    <tr style=\"text-align: right;\">\n",
       "      <th></th>\n",
       "      <th>id</th>\n",
       "      <th>comment_text</th>\n",
       "      <th>toxic</th>\n",
       "    </tr>\n",
       "  </thead>\n",
       "  <tbody>\n",
       "    <tr>\n",
       "      <th>0</th>\n",
       "      <td>e617e2489abe9bca</td>\n",
       "      <td>\"\\r\\n\\r\\n A barnstar for you! \\r\\n\\r\\n  The De...</td>\n",
       "      <td>0</td>\n",
       "    </tr>\n",
       "    <tr>\n",
       "      <th>1</th>\n",
       "      <td>9250cf637294e09d</td>\n",
       "      <td>\"\\r\\n\\r\\nThis seems unbalanced.  whatever I ha...</td>\n",
       "      <td>0</td>\n",
       "    </tr>\n",
       "    <tr>\n",
       "      <th>2</th>\n",
       "      <td>ce1aa4592d5240ca</td>\n",
       "      <td>Marya Dzmitruk was born in Minsk, Belarus in M...</td>\n",
       "      <td>0</td>\n",
       "    </tr>\n",
       "    <tr>\n",
       "      <th>3</th>\n",
       "      <td>48105766ff7f075b</td>\n",
       "      <td>\"\\r\\n\\r\\nTalkback\\r\\n\\r\\n Dear Celestia...  \"</td>\n",
       "      <td>0</td>\n",
       "    </tr>\n",
       "    <tr>\n",
       "      <th>4</th>\n",
       "      <td>0543d4f82e5470b6</td>\n",
       "      <td>New Categories \\r\\n\\r\\nI honestly think that w...</td>\n",
       "      <td>0</td>\n",
       "    </tr>\n",
       "  </tbody>\n",
       "</table>\n",
       "</div>"
      ],
      "text/plain": [
       "                 id                                       comment_text  toxic\n",
       "0  e617e2489abe9bca  \"\\r\\n\\r\\n A barnstar for you! \\r\\n\\r\\n  The De...      0\n",
       "1  9250cf637294e09d  \"\\r\\n\\r\\nThis seems unbalanced.  whatever I ha...      0\n",
       "2  ce1aa4592d5240ca  Marya Dzmitruk was born in Minsk, Belarus in M...      0\n",
       "3  48105766ff7f075b      \"\\r\\n\\r\\nTalkback\\r\\n\\r\\n Dear Celestia...  \"      0\n",
       "4  0543d4f82e5470b6  New Categories \\r\\n\\r\\nI honestly think that w...      0"
      ]
     },
     "execution_count": 4,
     "metadata": {},
     "output_type": "execute_result"
    }
   ],
   "source": [
    "df.head()"
   ]
  },
  {
   "cell_type": "code",
   "execution_count": 5,
   "metadata": {
    "colab": {
     "base_uri": "https://localhost:8080/"
    },
    "id": "W3TLr_qIhi7y",
    "outputId": "aeddeb30-c376-469c-daed-ed289091a1a6"
   },
   "outputs": [
    {
     "name": "stderr",
     "output_type": "stream",
     "text": [
      "C:\\Users\\ARJUNV~1\\AppData\\Local\\Temp/ipykernel_39092/1912185540.py:3: FutureWarning: The default value of regex will change from True to False in a future version.\n",
      "  df[\"tokenized\"] = df['tokenized'].str.replace('[^\\w\\s]','')\n",
      "[nltk_data] Downloading package stopwords to C:\\Users\\Arjun\n",
      "[nltk_data]     V\\AppData\\Roaming\\nltk_data...\n",
      "[nltk_data]   Package stopwords is already up-to-date!\n"
     ]
    }
   ],
   "source": [
    "df[\"tokenized\"] = df[\"comment_text\"]\n",
    "df = df.apply(lambda x: x.str.lower() if x.dtype == \"object\" else x) \n",
    "df[\"tokenized\"] = df['tokenized'].str.replace('[^\\w\\s]','')\n",
    "df[\"tokenized\"] = df[\"tokenized\"].apply(word_tokenize)\n",
    "nltk.download('stopwords')\n",
    "stop_words = set(stopwords.words('english'))\n",
    "df[\"tokenized\"] = df[\"tokenized\"].apply(lambda words: [word for word in words if word not in stop_words])\n",
    "stemmer = PorterStemmer()\n",
    "df['stemmed'] = df['tokenized'].apply(lambda x: [stemmer.stem(y) for y in x])"
   ]
  },
  {
   "cell_type": "code",
   "execution_count": 6,
   "metadata": {
    "colab": {
     "base_uri": "https://localhost:8080/",
     "height": 302
    },
    "id": "l8HA9x_Bh3MX",
    "outputId": "3ec36e9f-78a5-40e6-bc10-d95a02b6d427"
   },
   "outputs": [
    {
     "data": {
      "text/html": [
       "<div>\n",
       "<style scoped>\n",
       "    .dataframe tbody tr th:only-of-type {\n",
       "        vertical-align: middle;\n",
       "    }\n",
       "\n",
       "    .dataframe tbody tr th {\n",
       "        vertical-align: top;\n",
       "    }\n",
       "\n",
       "    .dataframe thead th {\n",
       "        text-align: right;\n",
       "    }\n",
       "</style>\n",
       "<table border=\"1\" class=\"dataframe\">\n",
       "  <thead>\n",
       "    <tr style=\"text-align: right;\">\n",
       "      <th></th>\n",
       "      <th>id</th>\n",
       "      <th>comment_text</th>\n",
       "      <th>toxic</th>\n",
       "      <th>tokenized</th>\n",
       "      <th>stemmed</th>\n",
       "    </tr>\n",
       "  </thead>\n",
       "  <tbody>\n",
       "    <tr>\n",
       "      <th>0</th>\n",
       "      <td>e617e2489abe9bca</td>\n",
       "      <td>\"\\r\\n\\r\\n a barnstar for you! \\r\\n\\r\\n  the de...</td>\n",
       "      <td>0</td>\n",
       "      <td>[barnstar, defender, wiki, barnstar, like, edi...</td>\n",
       "      <td>[barnstar, defend, wiki, barnstar, like, edit,...</td>\n",
       "    </tr>\n",
       "    <tr>\n",
       "      <th>1</th>\n",
       "      <td>9250cf637294e09d</td>\n",
       "      <td>\"\\r\\n\\r\\nthis seems unbalanced.  whatever i ha...</td>\n",
       "      <td>0</td>\n",
       "      <td>[seems, unbalanced, whatever, said, mathsci, s...</td>\n",
       "      <td>[seem, unbalanc, whatev, said, mathsci, said, ...</td>\n",
       "    </tr>\n",
       "    <tr>\n",
       "      <th>2</th>\n",
       "      <td>ce1aa4592d5240ca</td>\n",
       "      <td>marya dzmitruk was born in minsk, belarus in m...</td>\n",
       "      <td>0</td>\n",
       "      <td>[marya, dzmitruk, born, minsk, belarus, march,...</td>\n",
       "      <td>[marya, dzmitruk, born, minsk, belaru, march, ...</td>\n",
       "    </tr>\n",
       "    <tr>\n",
       "      <th>3</th>\n",
       "      <td>48105766ff7f075b</td>\n",
       "      <td>\"\\r\\n\\r\\ntalkback\\r\\n\\r\\n dear celestia...  \"</td>\n",
       "      <td>0</td>\n",
       "      <td>[talkback, dear, celestia]</td>\n",
       "      <td>[talkback, dear, celestia]</td>\n",
       "    </tr>\n",
       "    <tr>\n",
       "      <th>4</th>\n",
       "      <td>0543d4f82e5470b6</td>\n",
       "      <td>new categories \\r\\n\\r\\ni honestly think that w...</td>\n",
       "      <td>0</td>\n",
       "      <td>[new, categories, honestly, think, need, add, ...</td>\n",
       "      <td>[new, categori, honestli, think, need, add, ca...</td>\n",
       "    </tr>\n",
       "  </tbody>\n",
       "</table>\n",
       "</div>"
      ],
      "text/plain": [
       "                 id                                       comment_text  toxic  \\\n",
       "0  e617e2489abe9bca  \"\\r\\n\\r\\n a barnstar for you! \\r\\n\\r\\n  the de...      0   \n",
       "1  9250cf637294e09d  \"\\r\\n\\r\\nthis seems unbalanced.  whatever i ha...      0   \n",
       "2  ce1aa4592d5240ca  marya dzmitruk was born in minsk, belarus in m...      0   \n",
       "3  48105766ff7f075b      \"\\r\\n\\r\\ntalkback\\r\\n\\r\\n dear celestia...  \"      0   \n",
       "4  0543d4f82e5470b6  new categories \\r\\n\\r\\ni honestly think that w...      0   \n",
       "\n",
       "                                           tokenized  \\\n",
       "0  [barnstar, defender, wiki, barnstar, like, edi...   \n",
       "1  [seems, unbalanced, whatever, said, mathsci, s...   \n",
       "2  [marya, dzmitruk, born, minsk, belarus, march,...   \n",
       "3                         [talkback, dear, celestia]   \n",
       "4  [new, categories, honestly, think, need, add, ...   \n",
       "\n",
       "                                             stemmed  \n",
       "0  [barnstar, defend, wiki, barnstar, like, edit,...  \n",
       "1  [seem, unbalanc, whatev, said, mathsci, said, ...  \n",
       "2  [marya, dzmitruk, born, minsk, belaru, march, ...  \n",
       "3                         [talkback, dear, celestia]  \n",
       "4  [new, categori, honestli, think, need, add, ca...  "
      ]
     },
     "execution_count": 6,
     "metadata": {},
     "output_type": "execute_result"
    }
   ],
   "source": [
    "df.head()"
   ]
  },
  {
   "cell_type": "code",
   "execution_count": 7,
   "metadata": {
    "id": "N2evN6YFiCGO"
   },
   "outputs": [],
   "source": [
    "my_dict = pd.Series(df.stemmed.values,index=df.id).to_dict()\n",
    "my_list = df[\"stemmed\"]\n",
    "my_list[:5]\n",
    "words = []\n",
    "for key in my_dict:\n",
    "    for i in range(len(my_dict[key])):\n",
    "        term = my_dict[key][i]\n",
    "        words.append(term)"
   ]
  },
  {
   "cell_type": "code",
   "execution_count": 8,
   "metadata": {
    "colab": {
     "base_uri": "https://localhost:8080/"
    },
    "id": "M1coFF7BieaK",
    "outputId": "6386f0a3-d71f-46bd-d361-ef8f7eb5288b"
   },
   "outputs": [
    {
     "name": "stdout",
     "output_type": "stream",
     "text": [
      "['barnstar', 'defend', 'wiki', 'barnstar', 'like']\n"
     ]
    }
   ],
   "source": [
    "print(words[:5])"
   ]
  },
  {
   "cell_type": "code",
   "execution_count": 9,
   "metadata": {
    "id": "KrkmL-opi7Kz"
   },
   "outputs": [],
   "source": [
    "length = len(my_list)\n",
    "inverted_index = {}\n",
    "for i in range(length):\n",
    "    check = my_list[i]\n",
    "    for item in words:\n",
    "        if item in check:\n",
    "            if item not in inverted_index:\n",
    "                inverted_index[item] = []\n",
    "            if item in inverted_index:\n",
    "                inverted_index[item].append(i+1)\n",
    "        \n",
    "for key in inverted_index:\n",
    "    inverted_index[key] = list(set(inverted_index[key]))"
   ]
  },
  {
   "cell_type": "code",
   "execution_count": 10,
   "metadata": {
    "id": "q15GN8ycjqC1"
   },
   "outputs": [
    {
     "data": {
      "text/plain": [
       "[3]"
      ]
     },
     "execution_count": 10,
     "metadata": {},
     "output_type": "execute_result"
    }
   ],
   "source": [
    "inverted_index[\"minsk\"]"
   ]
  },
  {
   "cell_type": "code",
   "execution_count": 16,
   "metadata": {
    "id": "tUPVJFtojt7R"
   },
   "outputs": [],
   "source": [
    "complete_words=list(words)"
   ]
  },
  {
   "cell_type": "code",
   "execution_count": 17,
   "metadata": {
    "id": "ghWsAJlokSoP"
   },
   "outputs": [],
   "source": [
    "def spell_correction(tokens,word):\n",
    "  edit_dist=10000000\n",
    "  for token in tokens:\n",
    "    dist=nltk.edit_distance(token,word)\n",
    "    if dist<edit_dist:\n",
    "      ans=token\n",
    "      edit_dist=dist\n",
    "    elif dist==edit_dist:\n",
    "      if len(inverted_index[token])>len(inverted_index[ans]):\n",
    "        ans=token\n",
    "  return ans"
   ]
  },
  {
   "cell_type": "code",
   "execution_count": 19,
   "metadata": {
    "id": "aowjrc2ikZ3Q"
   },
   "outputs": [
    {
     "name": "stdout",
     "output_type": "stream",
     "text": [
      "Enter the word : chickun\n",
      "The closest word is:-\n",
      "chicken\n"
     ]
    }
   ],
   "source": [
    "user_query=input(\"Enter the word : \")\n",
    "result=spell_correction(complete_words,user_query)\n",
    "print(\"The closest word is:-\")\n",
    "print(result)\n"
   ]
  },
  {
   "cell_type": "code",
   "execution_count": null,
   "metadata": {
    "id": "MhCvVYMhl9Ez"
   },
   "outputs": [],
   "source": []
  }
 ],
 "metadata": {
  "colab": {
   "name": "Closestword.ipynb",
   "provenance": []
  },
  "kernelspec": {
   "display_name": "Python 3 (ipykernel)",
   "language": "python",
   "name": "python3"
  },
  "language_info": {
   "codemirror_mode": {
    "name": "ipython",
    "version": 3
   },
   "file_extension": ".py",
   "mimetype": "text/x-python",
   "name": "python",
   "nbconvert_exporter": "python",
   "pygments_lexer": "ipython3",
   "version": "3.9.7"
  }
 },
 "nbformat": 4,
 "nbformat_minor": 1
}
